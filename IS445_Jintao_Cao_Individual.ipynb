{
 "cells": [
  {
   "cell_type": "code",
   "execution_count": 2,
   "id": "initial_id",
   "metadata": {
    "collapsed": true,
    "ExecuteTime": {
     "end_time": "2024-04-30T19:59:12.663955400Z",
     "start_time": "2024-04-30T19:59:12.401412400Z"
    }
   },
   "outputs": [],
   "source": [
    "import pandas as pd"
   ]
  },
  {
   "cell_type": "code",
   "execution_count": 3,
   "outputs": [
    {
     "data": {
      "text/plain": "   Rk            Player   Pos  Age   Tm   G  GS    MP   FG   FGA  ...    FT%  \\\n0   1  Precious Achiuwa  PF-C   24  TOT  74  18  21.9  3.2   6.3  ...  0.616   \n1   1  Precious Achiuwa     C   24  TOR  25   0  17.5  3.1   6.8  ...  0.571   \n2   1  Precious Achiuwa    PF   24  NYK  49  18  24.2  3.2   6.1  ...  0.643   \n3   2       Bam Adebayo     C   26  MIA  71  71  34.0  7.5  14.3  ...  0.755   \n4   3      Ochai Agbaji    SG   23  TOT  78  28  21.0  2.3   5.6  ...  0.661   \n\n   ORB  DRB   TRB  AST  STL  BLK  TOV   PF   PTS  \n0  2.6  4.0   6.6  1.3  0.6  0.9  1.1  1.9   7.6  \n1  2.0  3.4   5.4  1.8  0.6  0.5  1.2  1.6   7.7  \n2  2.9  4.3   7.2  1.1  0.6  1.1  1.1  2.1   7.6  \n3  2.2  8.1  10.4  3.9  1.1  0.9  2.3  2.2  19.3  \n4  0.9  1.8   2.8  1.1  0.6  0.6  0.8  1.5   5.8  \n\n[5 rows x 30 columns]",
      "text/html": "<div>\n<style scoped>\n    .dataframe tbody tr th:only-of-type {\n        vertical-align: middle;\n    }\n\n    .dataframe tbody tr th {\n        vertical-align: top;\n    }\n\n    .dataframe thead th {\n        text-align: right;\n    }\n</style>\n<table border=\"1\" class=\"dataframe\">\n  <thead>\n    <tr style=\"text-align: right;\">\n      <th></th>\n      <th>Rk</th>\n      <th>Player</th>\n      <th>Pos</th>\n      <th>Age</th>\n      <th>Tm</th>\n      <th>G</th>\n      <th>GS</th>\n      <th>MP</th>\n      <th>FG</th>\n      <th>FGA</th>\n      <th>...</th>\n      <th>FT%</th>\n      <th>ORB</th>\n      <th>DRB</th>\n      <th>TRB</th>\n      <th>AST</th>\n      <th>STL</th>\n      <th>BLK</th>\n      <th>TOV</th>\n      <th>PF</th>\n      <th>PTS</th>\n    </tr>\n  </thead>\n  <tbody>\n    <tr>\n      <th>0</th>\n      <td>1</td>\n      <td>Precious Achiuwa</td>\n      <td>PF-C</td>\n      <td>24</td>\n      <td>TOT</td>\n      <td>74</td>\n      <td>18</td>\n      <td>21.9</td>\n      <td>3.2</td>\n      <td>6.3</td>\n      <td>...</td>\n      <td>0.616</td>\n      <td>2.6</td>\n      <td>4.0</td>\n      <td>6.6</td>\n      <td>1.3</td>\n      <td>0.6</td>\n      <td>0.9</td>\n      <td>1.1</td>\n      <td>1.9</td>\n      <td>7.6</td>\n    </tr>\n    <tr>\n      <th>1</th>\n      <td>1</td>\n      <td>Precious Achiuwa</td>\n      <td>C</td>\n      <td>24</td>\n      <td>TOR</td>\n      <td>25</td>\n      <td>0</td>\n      <td>17.5</td>\n      <td>3.1</td>\n      <td>6.8</td>\n      <td>...</td>\n      <td>0.571</td>\n      <td>2.0</td>\n      <td>3.4</td>\n      <td>5.4</td>\n      <td>1.8</td>\n      <td>0.6</td>\n      <td>0.5</td>\n      <td>1.2</td>\n      <td>1.6</td>\n      <td>7.7</td>\n    </tr>\n    <tr>\n      <th>2</th>\n      <td>1</td>\n      <td>Precious Achiuwa</td>\n      <td>PF</td>\n      <td>24</td>\n      <td>NYK</td>\n      <td>49</td>\n      <td>18</td>\n      <td>24.2</td>\n      <td>3.2</td>\n      <td>6.1</td>\n      <td>...</td>\n      <td>0.643</td>\n      <td>2.9</td>\n      <td>4.3</td>\n      <td>7.2</td>\n      <td>1.1</td>\n      <td>0.6</td>\n      <td>1.1</td>\n      <td>1.1</td>\n      <td>2.1</td>\n      <td>7.6</td>\n    </tr>\n    <tr>\n      <th>3</th>\n      <td>2</td>\n      <td>Bam Adebayo</td>\n      <td>C</td>\n      <td>26</td>\n      <td>MIA</td>\n      <td>71</td>\n      <td>71</td>\n      <td>34.0</td>\n      <td>7.5</td>\n      <td>14.3</td>\n      <td>...</td>\n      <td>0.755</td>\n      <td>2.2</td>\n      <td>8.1</td>\n      <td>10.4</td>\n      <td>3.9</td>\n      <td>1.1</td>\n      <td>0.9</td>\n      <td>2.3</td>\n      <td>2.2</td>\n      <td>19.3</td>\n    </tr>\n    <tr>\n      <th>4</th>\n      <td>3</td>\n      <td>Ochai Agbaji</td>\n      <td>SG</td>\n      <td>23</td>\n      <td>TOT</td>\n      <td>78</td>\n      <td>28</td>\n      <td>21.0</td>\n      <td>2.3</td>\n      <td>5.6</td>\n      <td>...</td>\n      <td>0.661</td>\n      <td>0.9</td>\n      <td>1.8</td>\n      <td>2.8</td>\n      <td>1.1</td>\n      <td>0.6</td>\n      <td>0.6</td>\n      <td>0.8</td>\n      <td>1.5</td>\n      <td>5.8</td>\n    </tr>\n  </tbody>\n</table>\n<p>5 rows × 30 columns</p>\n</div>"
     },
     "execution_count": 3,
     "metadata": {},
     "output_type": "execute_result"
    }
   ],
   "source": [
    "# Try loading the data with a different encoding, commonly 'ISO-8859-1' for CSV files with non-standard characters\n",
    "data_iso = pd.read_csv(\"data/2023-2024 NBA Player Stats - Regular.csv\", delimiter=\";\", encoding='ISO-8859-1')\n",
    "\n",
    "# Display the first few rows of the dataframe\n",
    "data_iso.head() "
   ],
   "metadata": {
    "collapsed": false,
    "ExecuteTime": {
     "end_time": "2024-04-30T19:59:13.429920900Z",
     "start_time": "2024-04-30T19:59:13.403965300Z"
    }
   },
   "id": "4139a778e465f7b7"
  },
  {
   "cell_type": "code",
   "execution_count": null,
   "outputs": [],
   "source": [],
   "metadata": {
    "collapsed": false
   },
   "id": "f5134e74fae262e6"
  }
 ],
 "metadata": {
  "kernelspec": {
   "display_name": "Python 3",
   "language": "python",
   "name": "python3"
  },
  "language_info": {
   "codemirror_mode": {
    "name": "ipython",
    "version": 2
   },
   "file_extension": ".py",
   "mimetype": "text/x-python",
   "name": "python",
   "nbconvert_exporter": "python",
   "pygments_lexer": "ipython2",
   "version": "2.7.6"
  }
 },
 "nbformat": 4,
 "nbformat_minor": 5
}
